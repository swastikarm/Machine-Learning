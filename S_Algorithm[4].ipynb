{
  "nbformat": 4,
  "nbformat_minor": 0,
  "metadata": {
    "colab": {
      "provenance": [],
      "authorship_tag": "ABX9TyP/F4mAP3pbOHv9dEQCuqSZ",
      "include_colab_link": true
    },
    "kernelspec": {
      "name": "python3",
      "display_name": "Python 3"
    },
    "language_info": {
      "name": "python"
    }
  },
  "cells": [
    {
      "cell_type": "markdown",
      "metadata": {
        "id": "view-in-github",
        "colab_type": "text"
      },
      "source": [
        "<a href=\"https://colab.research.google.com/github/swastikarm/Machine-Learning/blob/main/S_Algorithm%5B4%5D.ipynb\" target=\"_parent\"><img src=\"https://colab.research.google.com/assets/colab-badge.svg\" alt=\"Open In Colab\"/></a>"
      ]
    },
    {
      "cell_type": "code",
      "execution_count": 2,
      "metadata": {
        "colab": {
          "base_uri": "https://localhost:8080/",
          "height": 0
        },
        "id": "1uF7XRou92AL",
        "outputId": "e1c3fa35-8800-4f96-b70f-4650abd4b4ed"
      },
      "outputs": [
        {
          "output_type": "stream",
          "name": "stdout",
          "text": [
            "Training data:\n",
            "    Outlook Temperature Humidity  Windy PlayTennis\n",
            "0     Sunny         Hot     High  False         No\n",
            "1     Sunny         Hot     High   True         No\n",
            "2  Overcast         Hot     High  False        Yes\n",
            "3      Rain        Cold     High  False        Yes\n",
            "4      Rain        Cold     High   True         No\n",
            "5  Overcast         Hot     High   True        Yes\n",
            "6     Sunny         Hot     High  False         No\n",
            "\n",
            "The final hypothesis is: ['?', 'Hot', 'High', False]\n"
          ]
        }
      ],
      "source": [
        "import pandas as pd\n",
        "def find_s_algorithm(file_path):\n",
        " data = pd.read_csv(file_path)\n",
        " print(\"Training data:\")\n",
        " print(data)\n",
        " attributes = data.columns[:-1]\n",
        " class_label = data.columns[-1]\n",
        " hypothesis = ['?' for _ in attributes]\n",
        " for index, row in data.iterrows():\n",
        "  if row[class_label] == 'Yes':\n",
        "    for i, value in enumerate(row[attributes]):\n",
        "      if hypothesis[i] == '?' or hypothesis[i] == value:\n",
        "        hypothesis[i] = value\n",
        "      else:\n",
        "          hypothesis[i] = '?'\n",
        "          return hypothesis\n",
        "file_path = '/content/training_data (1).csv'\n",
        "hypothesis = find_s_algorithm(file_path)\n",
        "print(\"\\nThe final hypothesis is:\", hypothesis)"
      ]
    },
    {
      "cell_type": "code",
      "source": [
        "import pandas as pd\n",
        "\n",
        "def find_s_algorithm(file_path):\n",
        "    data = pd.read_csv(file_path)\n",
        "    print(\"Training data:\")\n",
        "    print(data)\n",
        "    attributes = data.columns[:-1]\n",
        "    class_label = data.columns[-1]\n",
        "    hypothesis = ['?' for _ in attributes]\n",
        "    for index, row in data.iterrows():\n",
        "        if row[class_label] == 'Yes': #indented this line\n",
        "            for i, value in enumerate(row[attributes]):\n",
        "                if hypothesis[i] == '?' or hypothesis[i] == value: #indented this line\n",
        "                    hypothesis[i] = value #indented this line\n",
        "                else: #indented this line\n",
        "                    hypothesis[i] = '?' #indented this line\n",
        "    return hypothesis\n",
        "\n",
        "file_path = '/content/PlayTennis_NB_Example.csv'\n",
        "hypothesis = find_s_algorithm(file_path)\n",
        "print(\"\\nThe final hypothesis is:\", hypothesis)"
      ],
      "metadata": {
        "colab": {
          "base_uri": "https://localhost:8080/",
          "height": 0
        },
        "id": "ZAd0TBoR-Mzl",
        "outputId": "01207fce-7311-4a91-9ece-5df4b7e5fb48"
      },
      "execution_count": 3,
      "outputs": [
        {
          "output_type": "stream",
          "name": "stdout",
          "text": [
            "Training data:\n",
            "    Day   Outlook Temperature Humidity    Wind PlayTennis\n",
            "0    D1     Sunny         Hot     High    Weak         No\n",
            "1    D2     Sunny         Hot     High  Strong         No\n",
            "2    D3  Overcast         Hot     High    Weak        Yes\n",
            "3    D4      Rain        Mild     High    Weak        Yes\n",
            "4    D5      Rain        Cool   Normal    Weak        Yes\n",
            "5    D6      Rain        Cool   Normal  Strong         No\n",
            "6    D7  Overcast        Cool   Normal  Strong        Yes\n",
            "7    D8     Sunny        Mild     High    Weak         No\n",
            "8    D9     Sunny        Cool   Normal    Weak        Yes\n",
            "9   D10      Rain        Mild   Normal    Weak        Yes\n",
            "10  D11     Sunny        Mild   Normal  Strong        Yes\n",
            "11  D12  Overcast        Mild     High  Strong        Yes\n",
            "12  D13  Overcast         Hot   Normal    Weak        Yes\n",
            "13  D14      Rain        Mild     High  Strong         No\n",
            "\n",
            "The final hypothesis is: ['D13', 'Overcast', '?', 'Normal', '?']\n"
          ]
        }
      ]
    },
    {
      "cell_type": "code",
      "source": [
        "import pandas as pd\n",
        "\n",
        "def find_s_algorithm(file_path):\n",
        "    data = pd.read_csv(file_path)\n",
        "    print(\"Training data:\")\n",
        "    print(data)\n",
        "    attributes = data.columns[:-1]\n",
        "    class_label = data.columns[-1]\n",
        "    hypothesis = ['?' for _ in attributes]\n",
        "    for index, row in data.iterrows():\n",
        "        if row[class_label] == 'Yes': #indented this line\n",
        "            for i, value in enumerate(row[attributes]):\n",
        "                if hypothesis[i] == '?' or hypothesis[i] == value: #indented this line\n",
        "                    hypothesis[i] = value #indented this line\n",
        "                else: #indented this line\n",
        "                    hypothesis[i] = '?' #indented this line\n",
        "    return hypothesis\n",
        "\n",
        "file_path = '/content/PlayTennis_NB_Example.csv'\n",
        "hypothesis = find_s_algorithm(file_path)\n",
        "print(\"\\nThe final hypothesis is:\", hypothesis)"
      ],
      "metadata": {
        "colab": {
          "base_uri": "https://localhost:8080/",
          "height": 0
        },
        "id": "u0t04X1S-WTV",
        "outputId": "c58a95b8-db00-4dd1-fe2e-81bb43a54c8d"
      },
      "execution_count": 4,
      "outputs": [
        {
          "output_type": "stream",
          "name": "stdout",
          "text": [
            "Training data:\n",
            "    Day   Outlook Temperature Humidity    Wind PlayTennis\n",
            "0    D1     Sunny         Hot     High    Weak         No\n",
            "1    D2     Sunny         Hot     High  Strong         No\n",
            "2    D3  Overcast         Hot     High    Weak        Yes\n",
            "3    D4      Rain        Mild     High    Weak        Yes\n",
            "4    D5      Rain        Cool   Normal    Weak        Yes\n",
            "5    D6      Rain        Cool   Normal  Strong         No\n",
            "6    D7  Overcast        Cool   Normal  Strong        Yes\n",
            "7    D8     Sunny        Mild     High    Weak         No\n",
            "8    D9     Sunny        Cool   Normal    Weak        Yes\n",
            "9   D10      Rain        Mild   Normal    Weak        Yes\n",
            "10  D11     Sunny        Mild   Normal  Strong        Yes\n",
            "11  D12  Overcast        Mild     High  Strong        Yes\n",
            "12  D13  Overcast         Hot   Normal    Weak        Yes\n",
            "13  D14      Rain        Mild     High  Strong         No\n",
            "\n",
            "The final hypothesis is: ['D13', 'Overcast', '?', 'Normal', '?']\n"
          ]
        }
      ]
    },
    {
      "cell_type": "code",
      "source": [
        "import pandas as pd\n",
        "\n",
        "# Test Case is classsify the follwoing instance <Outlook = Sunny, Temperture = Cool, Humidity = High, Wind = Strong>\n",
        "test_case = {'Outlook': 'Sunny', 'Temperature': 'Cool', 'Humidity': 'High', 'Wind': 'Strong'}\n",
        "\n",
        "# Load the correct dataset containing 'PlayTennis' column\n",
        "# Assuming 'PlayTennis_NB_Example.csv' contains this data\n",
        "df = pd.read_csv('/content/PlayTennis_NB_Example.csv') # Define df by reading the dataset\n",
        "\n",
        "# Calculate the prior probabilities for each class label\n",
        "prior_probabilities = df['PlayTennis'].value_counts(normalize=True).to_dict()\n",
        "\n",
        "# Round the prior probabilities to 2 decimal places\n",
        "prior_probabilities = {k: round(v, 2) for k, v in prior_probabilities.items()}\n",
        "print(\"Rounded Prior Probabilities: \", prior_probabilities)"
      ],
      "metadata": {
        "colab": {
          "base_uri": "https://localhost:8080/",
          "height": 0
        },
        "id": "wQFQqVbM-sO2",
        "outputId": "b793e8e2-8d08-4966-be0d-6ac8e1751b5c"
      },
      "execution_count": 6,
      "outputs": [
        {
          "output_type": "stream",
          "name": "stdout",
          "text": [
            "Rounded Prior Probabilities:  {'Yes': 0.64, 'No': 0.36}\n"
          ]
        }
      ]
    },
    {
      "cell_type": "code",
      "source": [
        "import pandas as pd\n",
        "\n",
        "# Test Case is classsify the follwoing instance <Outlook = Sunny, Temperture = Cool, Humidity = High, Wind = Strong>\n",
        "test_case = {'Outlook': 'Sunny', 'Temperature': 'Cool', 'Humidity': 'High', 'Wind': 'Strong'}\n",
        "\n",
        "# Load the correct dataset containing 'PlayTennis' column\n",
        "# Assuming 'PlayTennis_NB_Example.csv' contains this data\n",
        "df_tennis = pd.read_csv('/content/PlayTennis_NB_Example.csv')\n",
        "\n",
        "# Calculate the prior probabilities for each class label\n",
        "prior_probabilities = df_tennis['PlayTennis'].value_counts(normalize=True).to_dict()\n",
        "\n",
        "# Round the prior probabilities to 2 decimal places\n",
        "prior_probabilities = {k: round(v, 2) for k, v in prior_probabilities.items()}\n",
        "print(\"Rounded Prior Probabilities: \", prior_probabilities)"
      ],
      "metadata": {
        "colab": {
          "base_uri": "https://localhost:8080/",
          "height": 0
        },
        "id": "EjEOGcfH-vC-",
        "outputId": "3d6596c4-7d49-4eaa-9b3c-a27aee9398d1"
      },
      "execution_count": 7,
      "outputs": [
        {
          "output_type": "stream",
          "name": "stdout",
          "text": [
            "Rounded Prior Probabilities:  {'Yes': 0.64, 'No': 0.36}\n"
          ]
        }
      ]
    },
    {
      "cell_type": "code",
      "source": [
        "# Compute the likelihood probabilities for each feature given the class label\n",
        "likelihood_probabilities = {}\n",
        "\n",
        "# Exclude the target variable and the Day column from the features\n",
        "# Use df_tennis instead of df to access the 'PlayTennis' column\n",
        "for feature in df_tennis.columns[1:-1]:\n",
        "    likelihood_probabilities[feature] = {}\n",
        "    for class_label in df_tennis['PlayTennis'].unique():\n",
        "        # Calculate the likelihood probability for each feature given the class label\n",
        "        likelihood_probabilities[feature][class_label] = df_tennis[df_tennis['PlayTennis'] == class_label][feature].value_counts(normalize=True).to_dict()\n",
        "        # Round the likelihood probabilities to 2 decimal places\n",
        "        likelihood_probabilities[feature][class_label] = {k: round(v, 2) for k, v in likelihood_probabilities[feature][class_label].items()}\n",
        "        print(f\"Likelihood Probabilities for {feature} given {class_label}: \", likelihood_probabilities[feature][class_label])"
      ],
      "metadata": {
        "colab": {
          "base_uri": "https://localhost:8080/",
          "height": 0
        },
        "id": "lyfbsxmG-zrU",
        "outputId": "a791a5e7-cbae-4af2-9483-45d15680ba95"
      },
      "execution_count": 8,
      "outputs": [
        {
          "output_type": "stream",
          "name": "stdout",
          "text": [
            "Likelihood Probabilities for Outlook given No:  {'Sunny': 0.6, 'Rain': 0.4}\n",
            "Likelihood Probabilities for Outlook given Yes:  {'Overcast': 0.44, 'Rain': 0.33, 'Sunny': 0.22}\n",
            "Likelihood Probabilities for Temperature given No:  {'Hot': 0.4, 'Mild': 0.4, 'Cool': 0.2}\n",
            "Likelihood Probabilities for Temperature given Yes:  {'Mild': 0.44, 'Cool': 0.33, 'Hot': 0.22}\n",
            "Likelihood Probabilities for Humidity given No:  {'High': 0.8, 'Normal': 0.2}\n",
            "Likelihood Probabilities for Humidity given Yes:  {'Normal': 0.67, 'High': 0.33}\n",
            "Likelihood Probabilities for Wind given No:  {'Strong': 0.6, 'Weak': 0.4}\n",
            "Likelihood Probabilities for Wind given Yes:  {'Weak': 0.67, 'Strong': 0.33}\n"
          ]
        }
      ]
    },
    {
      "cell_type": "code",
      "source": [
        "# Navie Bayes Probability  for playTennis = Yes\n",
        "prob_yes = prior_probabilities['Yes']\n",
        "for feature, value in test_case.items():\n",
        "    prob_yes *= likelihood_probabilities[feature]['Yes'].get(value, 0)\n",
        "\n",
        "#print the probability of PlayTennis = Yes with two decimal places\n",
        "\n",
        "print(\"Probability of PlayTennis = Yes: \", round(prob_yes,4))"
      ],
      "metadata": {
        "colab": {
          "base_uri": "https://localhost:8080/",
          "height": 0
        },
        "id": "WlpgoXFt-1X2",
        "outputId": "bcc9c40d-0009-4ae6-e0b7-37b53bf7e930"
      },
      "execution_count": 9,
      "outputs": [
        {
          "output_type": "stream",
          "name": "stdout",
          "text": [
            "Probability of PlayTennis = Yes:  0.0051\n"
          ]
        }
      ]
    },
    {
      "cell_type": "code",
      "source": [
        "# Navie Bayes Probability  for playTennis = No\n",
        "prob_no = prior_probabilities['No']\n",
        "for feature, value in test_case.items():\n",
        "    prob_no *= likelihood_probabilities[feature]['No'].get(value, 0)\n",
        "\n",
        "#print the probability of PlayTennis = Yes with two decimal places\n",
        "\n",
        "print(\"Probability of PlayTennis = No: \", round(prob_no,4))"
      ],
      "metadata": {
        "colab": {
          "base_uri": "https://localhost:8080/",
          "height": 0
        },
        "id": "YU-WfjF--3CO",
        "outputId": "2c9a828c-4c13-4be5-cc0e-6bf8348e9509"
      },
      "execution_count": 10,
      "outputs": [
        {
          "output_type": "stream",
          "name": "stdout",
          "text": [
            "Probability of PlayTennis = No:  0.0207\n"
          ]
        }
      ]
    },
    {
      "cell_type": "code",
      "source": [
        "# The end result of NB is to compare the two probabilities and choose the one with the highest value.\n",
        "if prob_yes > prob_no:\n",
        "    print(\"The predicted class is: PlayTennis = Yes\")\n",
        "else:\n",
        "    print(\"The predicted class is: PlayTennis = No\")"
      ],
      "metadata": {
        "colab": {
          "base_uri": "https://localhost:8080/",
          "height": 0
        },
        "id": "U-0gCU-7-48x",
        "outputId": "805f7d90-887e-4fe1-9fca-35129c9c2f64"
      },
      "execution_count": 11,
      "outputs": [
        {
          "output_type": "stream",
          "name": "stdout",
          "text": [
            "The predicted class is: PlayTennis = No\n"
          ]
        }
      ]
    },
    {
      "cell_type": "code",
      "source": [
        "# Lets implement the same code using sklearn library\n",
        "from sklearn.naive_bayes import GaussianNB\n",
        "from sklearn.model_selection import train_test_split\n",
        "from sklearn.metrics import accuracy_score, classification_report, confusion_matrix\n",
        "from sklearn.preprocessing import LabelEncoder\n",
        "import numpy as np\n",
        "\n",
        "# Load the dataset\n",
        "df = pd.read_csv('PlayTennis_NB_Example.csv')\n",
        "df = df.drop(columns=['Day']) # Drop the 'Day' column as it is not needed for classification\n",
        "\n",
        "# Encode categorical features using LabelEncoder\n",
        "label_encoders = {}\n",
        "for column in df.columns:\n",
        "    if df[column].dtype == 'object':\n",
        "        le = LabelEncoder()\n",
        "        df[column] = le.fit_transform(df[column])\n",
        "        label_encoders[column] = le\n",
        "        # Display the mapping for the column without showing int64()\n",
        "        mapping = {original: int(encoded) for original, encoded in zip(le.classes_, le.transform(le.classes_))}\n",
        "        print(f\"Label Encoding for {column}: {mapping}\")\n",
        "\n",
        "\n",
        "\n",
        "# Split the dataset into features and target variable\n",
        "X = df.drop(columns=['PlayTennis'])\n",
        "y = df['PlayTennis']\n",
        "\n",
        "# Split the dataset into training and testing sets\n",
        "X_train, X_test, y_train, y_test = train_test_split(X, y, test_size=0.2, random_state=42)\n",
        "\n",
        "# Create and train the Gaussian Naive Bayes model\n",
        "gnb = GaussianNB()\n",
        "gnb.fit(X_train, y_train)\n",
        "\n",
        "# Make predictions on the test set\n",
        "y_pred = gnb.predict(X_test)\n",
        "\n",
        "# Calculate accuracy and print classification report\n",
        "accuracy = accuracy_score(y_test, y_pred)\n",
        "print(\"Accuracy in %: \", round(accuracy,2)*100)"
      ],
      "metadata": {
        "colab": {
          "base_uri": "https://localhost:8080/",
          "height": 0
        },
        "id": "88wamD2N-6j7",
        "outputId": "6bd1a026-3924-4f07-8a39-36c666aa0861"
      },
      "execution_count": 12,
      "outputs": [
        {
          "output_type": "stream",
          "name": "stdout",
          "text": [
            "Label Encoding for Outlook: {'Overcast': 0, 'Rain': 1, 'Sunny': 2}\n",
            "Label Encoding for Temperature: {'Cool': 0, 'Hot': 1, 'Mild': 2}\n",
            "Label Encoding for Humidity: {'High': 0, 'Normal': 1}\n",
            "Label Encoding for Wind: {'Strong': 0, 'Weak': 1}\n",
            "Label Encoding for PlayTennis: {'No': 0, 'Yes': 1}\n",
            "Accuracy in %:  100.0\n"
          ]
        }
      ]
    },
    {
      "cell_type": "code",
      "source": [
        "# Encode the test case with feature names\n",
        "test_case_encoded = pd.DataFrame({\n",
        "    'Outlook': label_encoders['Outlook'].transform([test_case['Outlook']])[0],\n",
        "    'Temperature': label_encoders['Temperature'].transform([test_case['Temperature']])[0],\n",
        "    'Humidity': label_encoders['Humidity'].transform([test_case['Humidity']])[0],\n",
        "    'Wind': label_encoders['Wind'].transform([test_case['Wind']])[0]\n",
        "}, index=[0])  # Create a DataFrame with feature names as columns"
      ],
      "metadata": {
        "id": "K59-YVZZ-8SY"
      },
      "execution_count": 13,
      "outputs": []
    },
    {
      "cell_type": "code",
      "source": [
        "# Display the encoded test case with feature names\n",
        "print(\"Encoded Test Case with Feature Names:\")\n",
        "print(test_case_encoded)"
      ],
      "metadata": {
        "colab": {
          "base_uri": "https://localhost:8080/",
          "height": 0
        },
        "id": "29s5hJge--IH",
        "outputId": "bd02ed27-a090-4915-8a44-cb313d5d3f9d"
      },
      "execution_count": 14,
      "outputs": [
        {
          "output_type": "stream",
          "name": "stdout",
          "text": [
            "Encoded Test Case with Feature Names:\n",
            "   Outlook  Temperature  Humidity  Wind\n",
            "0        2            0         0     0\n"
          ]
        }
      ]
    },
    {
      "cell_type": "code",
      "source": [
        "# display after inverse the encoding\n",
        "decoded_test_case = test_case_encoded.copy()\n",
        "for column in decoded_test_case.columns:\n",
        "    decoded_test_case[column] = label_encoders[column].inverse_transform(decoded_test_case[column])\n",
        "print(\"Given Test Case:\")\n",
        "print(decoded_test_case)"
      ],
      "metadata": {
        "colab": {
          "base_uri": "https://localhost:8080/",
          "height": 0
        },
        "id": "vSOZnwA0_CDT",
        "outputId": "491aa3d0-7f05-4dd8-c5c1-d74fc6106ff5"
      },
      "execution_count": 15,
      "outputs": [
        {
          "output_type": "stream",
          "name": "stdout",
          "text": [
            "Given Test Case:\n",
            "  Outlook Temperature Humidity    Wind\n",
            "0   Sunny        Cool     High  Strong\n"
          ]
        }
      ]
    },
    {
      "cell_type": "code",
      "source": [
        "# Make prediction for the test case\n",
        "predicted_class = gnb.predict(test_case_encoded)[0]\n",
        "predicted_class_label = label_encoders['PlayTennis'].inverse_transform([predicted_class])[0]\n",
        "print(\"Predicted class for the test case:\", predicted_class_label)"
      ],
      "metadata": {
        "colab": {
          "base_uri": "https://localhost:8080/",
          "height": 0
        },
        "id": "ZlEMLPsB_AC6",
        "outputId": "2e7cab3a-6b7c-4fd9-cada-439d197e8fad"
      },
      "execution_count": 16,
      "outputs": [
        {
          "output_type": "stream",
          "name": "stdout",
          "text": [
            "Predicted class for the test case: No\n"
          ]
        }
      ]
    },
    {
      "cell_type": "code",
      "source": [
        "import pandas as pd\n",
        "from collections import defaultdict\n",
        "\n",
        "# Dataset from the image\n",
        "data = {\n",
        "    'CGPA': ['≥9', '≥8', '≥9', '<8', '≥8', '≥9', '<8', '≥9', '≥8', '≥8'],\n",
        "    'Interactiveness': ['Yes', 'No', 'No', 'No', 'Yes', 'Yes', 'Yes', 'No', 'Yes', 'Yes'],\n",
        "    'Practical Knowledge': ['Very good', 'Good', 'Average', 'Average', 'Good', 'Good', 'Good', 'Very good', 'Good', 'Average'],\n",
        "    'Communication Skills': ['Good', 'Moderate', 'Poor', 'Good', 'Moderate', 'Moderate', 'Poor', 'Good', 'Good', 'Good'],\n",
        "    'Job Offer': ['Yes', 'Yes', 'No', 'No', 'Yes', 'Yes', 'No', 'Yes', 'Yes', 'Yes']\n",
        "}\n",
        "\n",
        "# Convert to DataFrame\n",
        "df = pd.DataFrame(data)\n",
        "\n",
        "# Display dataset\n",
        "print(\"Dataset:\")\n",
        "print(df)\n",
        "\n",
        "# Test instance\n",
        "test_instance = {\n",
        "    'CGPA': '≥8',\n",
        "    'Interactiveness': 'Yes',\n",
        "    'Practical Knowledge': 'Average',\n",
        "    'Communication Skills': 'Good'\n",
        "}\n",
        "\n",
        "# Laplace smoothing function\n",
        "def calculate_likelihood(df, feature, value, label, label_column='Job Offer'):\n",
        "    subset = df[df[label_column] == label]\n",
        "    total_label_count = len(subset)\n",
        "    value_count = len(subset[subset[feature] == value])\n",
        "    unique_values = df[feature].nunique()\n",
        "    # Apply Laplace Smoothing\n",
        "    smoothed_prob = (value_count + 1) / (total_label_count + unique_values)\n",
        "    return round(smoothed_prob, 4)\n",
        "\n",
        "# Calculate prior probabilities\n",
        "label_counts = df['Job Offer'].value_counts()\n",
        "total = len(df)\n",
        "prior_probs = {label: count / total for label, count in label_counts.items()}\n",
        "print(\"\\nPrior Probabilities:\")\n",
        "print(prior_probs)\n",
        "\n",
        "# Compute posterior probabilities for each class\n",
        "posteriors = {}\n",
        "\n",
        "for label in label_counts.keys():\n",
        "    prob = prior_probs[label]\n",
        "    print(f\"\\nPosterior for class '{label}':\")\n",
        "    for feature, value in test_instance.items():\n",
        "        likelihood = calculate_likelihood(df, feature, value, label)\n",
        "        print(f\"P({feature}={value} | Job Offer={label}) = {likelihood}\")\n",
        "        prob *= likelihood\n",
        "    posteriors[label] = round(prob, 6)\n",
        "    print(f\"Total Posterior Probability for '{label}': {posteriors[label]}\")\n",
        "\n",
        "# Make prediction\n",
        "predicted_class = max(posteriors, key=posteriors.get)\n",
        "print(\"\\nPredicted Job Offer:\", predicted_class)\n"
      ],
      "metadata": {
        "colab": {
          "base_uri": "https://localhost:8080/",
          "height": 0
        },
        "id": "fT1ebeO6_Et_",
        "outputId": "b79f18c6-23e3-47d3-a90d-2eb6ce297184"
      },
      "execution_count": 17,
      "outputs": [
        {
          "output_type": "stream",
          "name": "stdout",
          "text": [
            "Dataset:\n",
            "  CGPA Interactiveness Practical Knowledge Communication Skills Job Offer\n",
            "0   ≥9             Yes           Very good                 Good       Yes\n",
            "1   ≥8              No                Good             Moderate       Yes\n",
            "2   ≥9              No             Average                 Poor        No\n",
            "3   <8              No             Average                 Good        No\n",
            "4   ≥8             Yes                Good             Moderate       Yes\n",
            "5   ≥9             Yes                Good             Moderate       Yes\n",
            "6   <8             Yes                Good                 Poor        No\n",
            "7   ≥9              No           Very good                 Good       Yes\n",
            "8   ≥8             Yes                Good                 Good       Yes\n",
            "9   ≥8             Yes             Average                 Good       Yes\n",
            "\n",
            "Prior Probabilities:\n",
            "{'Yes': 0.7, 'No': 0.3}\n",
            "\n",
            "Posterior for class 'Yes':\n",
            "P(CGPA=≥8 | Job Offer=Yes) = 0.5\n",
            "P(Interactiveness=Yes | Job Offer=Yes) = 0.6667\n",
            "P(Practical Knowledge=Average | Job Offer=Yes) = 0.2\n",
            "P(Communication Skills=Good | Job Offer=Yes) = 0.5\n",
            "Total Posterior Probability for 'Yes': 0.023334\n",
            "\n",
            "Posterior for class 'No':\n",
            "P(CGPA=≥8 | Job Offer=No) = 0.1667\n",
            "P(Interactiveness=Yes | Job Offer=No) = 0.4\n",
            "P(Practical Knowledge=Average | Job Offer=No) = 0.5\n",
            "P(Communication Skills=Good | Job Offer=No) = 0.3333\n",
            "Total Posterior Probability for 'No': 0.003334\n",
            "\n",
            "Predicted Job Offer: Yes\n"
          ]
        }
      ]
    },
    {
      "cell_type": "code",
      "source": [],
      "metadata": {
        "id": "-SgSlCdF_GfZ"
      },
      "execution_count": null,
      "outputs": []
    }
  ]
}